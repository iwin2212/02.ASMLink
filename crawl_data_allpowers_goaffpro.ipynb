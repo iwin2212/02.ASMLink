{
 "cells": [
  {
   "cell_type": "markdown",
   "metadata": {},
   "source": [
    "Giải Recapcha"
   ]
  },
  {
   "cell_type": "code",
   "execution_count": 49,
   "metadata": {},
   "outputs": [],
   "source": [
    "from capmonstercloudclient import CapMonsterClient, ClientOptions\n",
    "from capmonstercloudclient.requests import RecaptchaV2ProxylessRequest\n",
    "\n",
    "API_KEY = \"b238f538e55b7deb0da93267f61d8763\"\n",
    "WEBSITE_URL = 'https://allpowers.goaffpro.com/login'\n",
    "WEBSITE_KEY = '6Lf_jsQUAAAAAOLW40PpDXgZQDIjjnGldAE1fhYr'\n",
    "\n",
    "client_options = ClientOptions(api_key=API_KEY)\n",
    "cap_monster_client = CapMonsterClient(options=client_options)\n",
    "\n",
    "async def solve_captcha():\n",
    "    recaptcha2request = RecaptchaV2ProxylessRequest(\n",
    "        websiteUrl=WEBSITE_URL,\n",
    "        websiteKey=WEBSITE_KEY\n",
    "    )\n",
    "    return await cap_monster_client.solve_captcha(recaptcha2request)\n",
    "\n",
    "# responses = await solve_captcha()\n",
    "# print(responses[\"gRecaptchaResponse\"])\n"
   ]
  },
  {
   "cell_type": "markdown",
   "metadata": {},
   "source": [
    "Login & get token"
   ]
  },
  {
   "cell_type": "code",
   "execution_count": 50,
   "metadata": {},
   "outputs": [],
   "source": [
    "import requests\n",
    "def login_and_get_token(login_url, payload):    \n",
    "    print(payload)\n",
    "    response = requests.post(login_url, data=payload)\n",
    "    # print(json.dumps(response.json(), indent=2))\n",
    "    if response.status_code == 200:\n",
    "        return response.cookies.get('access_token')\n",
    "    else:\n",
    "        print(f\"Error {response.status_code}: {response.text}\")\n",
    "        return None\n"
   ]
  },
  {
   "cell_type": "code",
   "execution_count": 52,
   "metadata": {},
   "outputs": [
    {
     "name": "stdout",
     "output_type": "stream",
     "text": [
      "{'email': 'natashacook371sdas@gmail.com', 'password': 'Qxwg0CN09v', 'partner_portal_subdomain': 'allpowers.goaffpro.com', 'recaptcha_response': '03AFcWeA4G8nzdSHANH3iVaq6S4uWTLGNSLAvliSQ6plULVMrN9WfMh3eeDuVqWaE_XCcHlp9gXpPYqNVu5ypRp-QNqmBIjRqVXUhQetuG0zQi5zoO32eB2Hxpp6TlyvMHbFsXai6Gn5MNy5zZfIcN90n-ERrfgbORjKvilIejw_MbaC6bmx-kVlJEWRXxmb4ziQbvS2Vs3RSQ5H4zvaYLTfPlbbwELn7PWhy6OcJPOW44tiHqQS_ditdpoovBSMIrYgqHX5DtGkBTjJHqQIt-lOjTuz_qGAo49i-aTT8hbTPBFj_lVItMujcaOwdAcvWyuKdJNRkgmBBwERlRO8bOHYPI_N6Vty9IZ_s8XCHtf5Bkcm-UKO6cq1CYDg4C-cD_r7V5Opx_l0OwoX0xb9IbUd9d5p821V5j_WD1dtxaIewp0-fud3D-ngYzRRuSult9LBbBd4zprf5LLHBKdN65vmr6FeMIFDvc634mjy-5ZtXL-p9Gor0qcERo1rn7bgJnBWG_UdOR79AdHYvhmKGhgvs4WZwgHcm9bDBYwqAIdVNRkPL-L0FOzppQuCu4xYddQoWE3DeSnkNAEZFl_Y-eiWNaPBokEowKkUsnhp7tQj3bZ4Z8NijUmE0'}\n",
      "Error 422: {\"code\":\"PORTAL_NOT_FOUND\",\"error\":\"Site cannot be found\"}\n",
      "Token = None\n"
     ]
    }
   ],
   "source": [
    "\n",
    "url = 'https://api2.goaffpro.com/partner/login'\n",
    "\n",
    "res = await solve_captcha()\n",
    "payload = {\n",
    "    \"email\": \"natashacook371sdas@gmail.com\",\n",
    "    \"password\": \"Qxwg0CN09v\",\n",
    "    \"partner_portal_subdomain\": \"allpowers.goaffpro.com\",\n",
    "    \"recaptcha_response\": res[\"gRecaptchaResponse\"]\n",
    "}\n",
    "\n",
    "token = login_and_get_token(url, payload)\n",
    "print(f\"Token =\", \"Bearer {token}\" if token is not None else token)\n"
   ]
  }
 ],
 "metadata": {
  "kernelspec": {
   "display_name": "test",
   "language": "python",
   "name": "python3"
  },
  "language_info": {
   "codemirror_mode": {
    "name": "ipython",
    "version": 3
   },
   "file_extension": ".py",
   "mimetype": "text/x-python",
   "name": "python",
   "nbconvert_exporter": "python",
   "pygments_lexer": "ipython3",
   "version": "3.10.9"
  }
 },
 "nbformat": 4,
 "nbformat_minor": 2
}
