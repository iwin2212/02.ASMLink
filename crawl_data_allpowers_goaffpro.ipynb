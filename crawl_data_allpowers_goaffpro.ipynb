{
 "cells": [
  {
   "cell_type": "code",
   "execution_count": 1,
   "metadata": {},
   "outputs": [],
   "source": [
    "import traceback\n",
    "from selenium import webdriver\n",
    "from selenium.webdriver.common.by import By\n",
    "from selenium.webdriver.support.ui import WebDriverWait\n",
    "from selenium.webdriver.support import expected_conditions as EC\n",
    "from selenium.webdriver.common.keys import Keys\n",
    "import time\n",
    "import os\n",
    "\n",
    "\n"
   ]
  },
  {
   "cell_type": "markdown",
   "metadata": {},
   "source": [
    "Recapcha"
   ]
  },
  {
   "cell_type": "code",
   "execution_count": 1,
   "metadata": {},
   "outputs": [
    {
     "name": "stdout",
     "output_type": "stream",
     "text": [
      "- Recaptcha\n",
      "03AFcWeA56J7Z_QCMWuZra9DUtSlak8zJ8lqsluOCPp_7b-qOWbF086mgkiN39z4DWr1eT1jAoBhUoXrqbt1lmxuuW16eKUY6dMnZG7cp9mzA5IyZzXyinTNtB1pZzlJihrh3rpxM0KTn6t2DzDOKXpxxoWf8L1OkCpo6twk-dma_Sgvo6UPihBF8L55Db0xZGKINpqKgm7lIxgSnw-jvaXXsbl9WZEcDuY27qgUOPzPR08sLPvAGg9L2UDHJF-b3eWt0WNMnFOFUpt6YkDN4JTRwLKdartrRT5rEPYGs_ThfLUhHxtrnI7z0X_CSTxKJr_bNo2_rxJvP53UzdtFREH62OyCIz5Bo8P_sB3Q1gsIzucF3sNgRvEKX3lBvUWuqb88D-NjnvC2GOPrp6z_52O2EUJZnxD5OSMnw53Ma8uEctjI3wub59g4UbiVQlIb-p4Js8eRHTHaX2Jg84XeqFcXO1ET9Gj5nXEltfIkFoHoQEkzfYmeB3Q3jrPtte97pYITH-as5KRuWpHCSegda18B-7h6GSf-ZiQbwZVwU3nuRZC3t6S-aHb0eH6ECM1Y35Bhmklo4YwaY-eYCMV5vr22tWMDtdyuBA23BKW6CnxGdviBOxE5qSd6RdWBPfiL4sETpDp_3H9Sq8\n"
     ]
    }
   ],
   "source": [
    "from capmonstercloudclient import CapMonsterClient, ClientOptions\n",
    "from capmonstercloudclient.requests import RecaptchaV2ProxylessRequest\n",
    "\n",
    "API_KEY = \"b238f538e55b7deb0da93267f61d8763\"\n",
    "WEBSITE_URL = 'https://allpowers.goaffpro.com/login'\n",
    "WEBSITE_KEY = '6Lf_jsQUAAAAAOLW40PpDXgZQDIjjnGldAE1fhYr'\n",
    "\n",
    "client_options = ClientOptions(api_key=API_KEY)\n",
    "cap_monster_client = CapMonsterClient(options=client_options)\n",
    "\n",
    "async def solve_captcha():\n",
    "    recaptcha2request = RecaptchaV2ProxylessRequest(\n",
    "        websiteUrl=WEBSITE_URL,\n",
    "        websiteKey=WEBSITE_KEY\n",
    "    )\n",
    "    return await cap_monster_client.solve_captcha(recaptcha2request)\n",
    "\n",
    "responses = await solve_captcha()\n",
    "print(responses[\"gRecaptchaResponse\"])\n"
   ]
  },
  {
   "cell_type": "code",
   "execution_count": 5,
   "metadata": {},
   "outputs": [],
   "source": [
    "import requests\n",
    "\n",
    "def login_and_get_token(login_url, email, password, subdomain, recaptcha_response):    \n",
    "    payload = {\n",
    "        \"email\": email,\n",
    "        \"password\": password,\n",
    "        \"partner_portal_subdomain\": subdomain,\n",
    "        \"recaptcha_response\": recaptcha_response\n",
    "    }\n",
    "\n",
    "    response = requests.post(login_url, data=payload)\n",
    "\n",
    "    if response.status_code == 200:\n",
    "        return response.cookies.get('access_token')\n",
    "    else:\n",
    "        print(\"Đăng nhập thất bại. Mã trạng thái:\", response.status_code)\n",
    "        print(\"Nội dung phản hồi:\", response.text)\n",
    "        return None\n"
   ]
  },
  {
   "cell_type": "code",
   "execution_count": 2,
   "metadata": {},
   "outputs": [
    {
     "name": "stdout",
     "output_type": "stream",
     "text": [
      "03AFcWeA5D8tEBDngxdjIvgEegGbT31SO1qKC7pzDXX40XBlvVf7j5ckHbxojFhZqwBjmzZ1epQ_hy407ZqBLV7CooSqcGy-jF4XC0ZbygyBJRVN2e_yh5YehDfdgFFTjQHit3U3b69mu6w8IZzON-bua-2GuC4CU6Y88x5tbNgV-LTbHQqQacmKCWu76ueIM-aXJ4pAbZmXmz5g8RdbfXX0dlLVeQ0F--tIVDTlEklIoyQqOozq40ZNZkziwFSfATb7Jz2G-34qsTZqDzkYMaaUANcysBtSnekcghFeBkQcbhhB-zNHRbcszSZVfIflxwnkQr3am3VcuiHuO4QW542yLWbsHCl-U01uWQt_yz9vWJHPm7zO5igkdDl_ejo6EnZYYSJnqUnQlfp4oebKLOUU8iB2F29DL3dvRaKqieu3aLvPaLrKd1sJQ7jtP60yaIudYsfxBDUJIYM_IUjeLns_nR-LdKrx_YxIaMkC4WnkJzoRjESc5IC1BS2QoN7MOacRUEmHxiZm4Q_dttJnv7KGNfrK8KNdVsVS1i_TI_P6-BlMPC6-2j7qJnW0yJW4oQFBGayvVuB1D-nD1iMERo68xU4k2wUMQ3-OAQ0E2h-jBPL-ez13uD0hc\n"
     ]
    },
    {
     "ename": "NameError",
     "evalue": "name 'login_and_get_token' is not defined",
     "output_type": "error",
     "traceback": [
      "\u001b[1;31m---------------------------------------------------------------------------\u001b[0m",
      "\u001b[1;31mNameError\u001b[0m                                 Traceback (most recent call last)",
      "\u001b[1;32md:\\02.code\\01.Py\\04.crawlData\\allpowers_goaffpro.ipynb Cell 5\u001b[0m line \u001b[0;36m9\n\u001b[0;32m      <a href='vscode-notebook-cell:/d%3A/02.code/01.Py/04.crawlData/allpowers_goaffpro.ipynb#X15sZmlsZQ%3D%3D?line=6'>7</a>\u001b[0m recaptcha_response \u001b[39m=\u001b[39m res[\u001b[39m\"\u001b[39m\u001b[39mgRecaptchaResponse\u001b[39m\u001b[39m\"\u001b[39m]\n\u001b[0;32m      <a href='vscode-notebook-cell:/d%3A/02.code/01.Py/04.crawlData/allpowers_goaffpro.ipynb#X15sZmlsZQ%3D%3D?line=7'>8</a>\u001b[0m \u001b[39mprint\u001b[39m(recaptcha_response)\n\u001b[1;32m----> <a href='vscode-notebook-cell:/d%3A/02.code/01.Py/04.crawlData/allpowers_goaffpro.ipynb#X15sZmlsZQ%3D%3D?line=8'>9</a>\u001b[0m login_and_get_token(url, email, password, subdomain, recaptcha_response)\n",
      "\u001b[1;31mNameError\u001b[0m: name 'login_and_get_token' is not defined"
     ]
    }
   ],
   "source": [
    "\n",
    "url = 'https://api2.goaffpro.com/partner/login'\n",
    "\n",
    "email = \"natashacook371sdas@gmail.com\"\n",
    "password = \"Qxwg0CN09v\"\n",
    "subdomain = \"allpowers.goaffpro.com\"\n",
    "res = await solve_captcha()\n",
    "\n",
    "token = login_and_get_token(url, email, password, subdomain, res[\"gRecaptchaResponse\"])\n",
    "print(f\"token= Bearer {token}\")\n"
   ]
  }
 ],
 "metadata": {
  "kernelspec": {
   "display_name": "test",
   "language": "python",
   "name": "python3"
  },
  "language_info": {
   "codemirror_mode": {
    "name": "ipython",
    "version": 3
   },
   "file_extension": ".py",
   "mimetype": "text/x-python",
   "name": "python",
   "nbconvert_exporter": "python",
   "pygments_lexer": "ipython3",
   "version": "3.10.9"
  }
 },
 "nbformat": 4,
 "nbformat_minor": 2
}
