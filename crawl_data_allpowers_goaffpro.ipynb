{
 "cells": [
  {
   "cell_type": "markdown",
   "metadata": {},
   "source": [
    "Giải Recapcha"
   ]
  },
  {
   "cell_type": "code",
   "execution_count": 15,
   "metadata": {},
   "outputs": [],
   "source": [
    "from capmonstercloudclient import CapMonsterClient, ClientOptions\n",
    "from capmonstercloudclient.requests import RecaptchaV2ProxylessRequest\n",
    "\n",
    "API_KEY = \"b238f538e55b7deb0da93267f61d8763\"\n",
    "WEBSITE_URL = 'https://allpowers.goaffpro.com/login'\n",
    "WEBSITE_KEY = '6Lf_jsQUAAAAAOLW40PpDXgZQDIjjnGldAE1fhYr'\n",
    "\n",
    "client_options = ClientOptions(api_key=API_KEY)\n",
    "cap_monster_client = CapMonsterClient(options=client_options)\n",
    "\n",
    "async def solve_captcha():\n",
    "    recaptcha2request = RecaptchaV2ProxylessRequest(\n",
    "        websiteUrl=WEBSITE_URL,\n",
    "        websiteKey=WEBSITE_KEY\n",
    "    )\n",
    "    return await cap_monster_client.solve_captcha(recaptcha2request)\n",
    "\n",
    "# responses = await solve_captcha()\n",
    "# print(responses[\"gRecaptchaResponse\"])\n"
   ]
  },
  {
   "cell_type": "markdown",
   "metadata": {},
   "source": [
    "Login & get token"
   ]
  },
  {
   "cell_type": "code",
   "execution_count": 16,
   "metadata": {},
   "outputs": [],
   "source": [
    "import requests\n",
    "import json\n",
    "def login_and_get_token(login_url, payload, headers): \n",
    "    print(payload)\n",
    "    response = requests.post(login_url, data=payload, headers=headers)\n",
    "    \n",
    "    if response.status_code == 200:\n",
    "        token = json.loads(response.content)[\"access_token\"]\n",
    "        if token:\n",
    "            return token\n",
    "        else:\n",
    "            print(\"Không tìm thấy token trong cookies.\")\n",
    "        return response.cookies.get('access_token')\n",
    "    else:\n",
    "        print(f\"Error {response.status_code}: {response.text}\")\n",
    "        return None\n"
   ]
  },
  {
   "cell_type": "code",
   "execution_count": 17,
   "metadata": {},
   "outputs": [
    {
     "name": "stdout",
     "output_type": "stream",
     "text": [
      "{'email': 'natashacook371sdas@gmail.com', 'password': 'Qxwg0CN09v', 'partner_portal_subdomain': 'allpowers.goaffpro.com', 'recaptcha_response': '03AFcWeA7i_IZcELkhNgGkGyInoOPtsIwkjpPB5DUa-FOWx19q9ukWV00D4qM6saVng0IDkitGlJIPweGZ2fzvcnZ35PkTMfsbouu-vehRIEJYyrgW2CKhIImthfcHLStpKEKN6SIrRfmUlv-IbgCME-JYiqk_mo5s9eaWmY29HnAlmcZ0zjPDI4LM4n4eCy-LtMNxs0xSdoFdarA2QUDJEJm9cc0TxnbxKzUIyG7aubCYKvEuBKwv75v8rYkV6bZenYlN3yEg-YO8UpZkx6Pq7nWbDVnKi2n-dzhGyZFHyqUNK5qkJqz41-iUisnj3L-PYPAhQs9rW2DGkr2IAdG9J8pQO5McZ-3K7aN0-6O2BVhuD9yQeRMXPpVUq94qg2nnojAgJUMO4J9Yqg8wr6CAa9yaianjpiKzR03xDpMqEKQjHp6xhMvkh974x69Kl9Gwjl8z4AbhalexfodF4rCMFNimh-g46e2oMgfvt0HunX5FxwI-NAYKIiQNK0CZbXDzniOSvVITcLB6ymfKrh4wFQdUgf1zLMOst8vGSfEEvgxar64x2LKtUilOOYu82oZ9M-00RtUkC4qT8rFhewZms0NM7XEi2ECfN9v_7IIxcEgLpDSiYVAmXp4MJrj3ATkFSvCHYvSZj4oj'}\n",
      "Token = Bearer {token}\n"
     ]
    }
   ],
   "source": [
    "\n",
    "url = 'https://api2.goaffpro.com/partner/login'\n",
    "\n",
    "res = await solve_captcha()\n",
    "payload = {\n",
    "    \"email\": \"natashacook371sdas@gmail.com\",\n",
    "    \"password\": \"Qxwg0CN09v\",\n",
    "    \"partner_portal_subdomain\": \"allpowers.goaffpro.com\",\n",
    "    \"recaptcha_response\": res[\"gRecaptchaResponse\"]\n",
    "}\n",
    "headers = {\n",
    "    'Origin': 'https://allpowers.goaffpro.com'\n",
    "}\n",
    "\n",
    "token = login_and_get_token(url, payload, headers)\n",
    "print(f\"Token =\", f\"Bearer {token}\" if token is not None else token)\n"
   ]
  }
 ],
 "metadata": {
  "kernelspec": {
   "display_name": "test",
   "language": "python",
   "name": "python3"
  },
  "language_info": {
   "codemirror_mode": {
    "name": "ipython",
    "version": 3
   },
   "file_extension": ".py",
   "mimetype": "text/x-python",
   "name": "python",
   "nbconvert_exporter": "python",
   "pygments_lexer": "ipython3",
   "version": "3.10.9"
  }
 },
 "nbformat": 4,
 "nbformat_minor": 2
}
