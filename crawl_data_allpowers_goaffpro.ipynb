{
 "cells": [
  {
   "cell_type": "markdown",
   "metadata": {},
   "source": [
    "Giải Recapcha"
   ]
  },
  {
   "cell_type": "code",
   "execution_count": 80,
   "metadata": {},
   "outputs": [],
   "source": [
    "from capmonstercloudclient import CapMonsterClient, ClientOptions\n",
    "from capmonstercloudclient.requests import RecaptchaV2ProxylessRequest\n",
    "\n",
    "API_KEY = \"b238f538e55b7deb0da93267f61d8763\"\n",
    "WEBSITE_URL = 'https://allpowers.goaffpro.com/login'\n",
    "WEBSITE_KEY = '6Lf_jsQUAAAAAOLW40PpDXgZQDIjjnGldAE1fhYr'\n",
    "\n",
    "client_options = ClientOptions(api_key=API_KEY)\n",
    "cap_monster_client = CapMonsterClient(options=client_options)\n",
    "\n",
    "async def solve_captcha():\n",
    "    recaptcha2request = RecaptchaV2ProxylessRequest(\n",
    "        websiteUrl=WEBSITE_URL,\n",
    "        websiteKey=WEBSITE_KEY\n",
    "    )\n",
    "    return await cap_monster_client.solve_captcha(recaptcha2request)\n",
    "\n",
    "# responses = await solve_captcha()\n",
    "# print(responses[\"gRecaptchaResponse\"])\n"
   ]
  },
  {
   "cell_type": "markdown",
   "metadata": {},
   "source": [
    "Login & get token"
   ]
  },
  {
   "cell_type": "code",
   "execution_count": 81,
   "metadata": {},
   "outputs": [],
   "source": [
    "import requests\n",
    "\n",
    "def print_cookies(response, *args, **kwargs):\n",
    "    print(\"All Cookies:\")\n",
    "    for cookie in response.cookies:\n",
    "        print(f\"{cookie.name}: {cookie.value}\")\n",
    "\n",
    "def login_and_get_token(login_url, payload, request_cookies=None, hooks={'response': \"https://allpowers.goaffpro.com/\"}): \n",
    "    print(payload)\n",
    "    session = requests.Session()\n",
    "    response = session.post(login_url, data=payload, cookies=request_cookies, hooks=hooks)\n",
    "    print_cookies(response)\n",
    "    \n",
    "    if response.status_code == 200:\n",
    "        token = response.cookies.get('access_token')\n",
    "        if token:\n",
    "            return token\n",
    "        else:\n",
    "            print(\"Không tìm thấy token trong cookies.\")\n",
    "        return response.cookies.get('access_token')\n",
    "    else:\n",
    "        print(f\"Error {response.status_code}: {response.text}\")\n",
    "        return None\n"
   ]
  },
  {
   "cell_type": "code",
   "execution_count": 82,
   "metadata": {},
   "outputs": [
    {
     "name": "stdout",
     "output_type": "stream",
     "text": [
      "{'email': 'natashacook371sdas@gmail.com', 'password': 'Qxwg0CN09v', 'partner_portal_subdomain': 'allpowers.goaffpro.com', 'recaptcha_response': '03AFcWeA6H41WuT_ahIf4HgNOAbDFXHZF74ibSM0yftabpDHPHUYJphgMqPaoR-oUl5dDDTt_yOqcsXQHN8SrD7nNo_Rz8JiKYL1Lvhg56tD_daZKOdj-6rgDGSvr9-NdLS02G1pGGW1B4ZYW78g_A30XyuA_KCYeD5QH-uOZZY73c6j9mEhNnwvztiMuX6q4ZkyJFOFGatVjz_ZsuVv6kPp90t7OIliD0NkEOYCIhajg-ktdZnw1fqqDP0hgf2ILj9aaeePosYKJMrFjyg2QdOf0rsGpendm6PxaOD0xlpPi1pTHgM6yHUnAUVZUIk3n9-0a11ma42B7UJ-vd05iN-1vDiZEc5gWE688f2F0aLyNamZE4Zl7fxezMTX-7IwSYuUTen3yTPj2pzbB3gwecqaVBBepW3H-x_E1VlGOzVQIMwj5ykHXTILR-F91X8eRAQFGJyLzrsCnw6u6DZKYnSPOOFkd2KUDdmtpWCKZ8Vw2Q6bNCpavG2c0WVsbonMPJfq3DfwXR50bu-nWaGBw9SHAr9SnpgzDI1dpGY8B6NgKWCOQ4OeYNmUi_z7dlJWTrAX54NvYv8GPSL4fnC1hbxKMvFAV53fMIErE4CazJSlQ39HFnmnPq8rOz1dLaM3gQAs5OCT6en8zL'}\n",
      "Error 422: {\"code\":\"PORTAL_NOT_FOUND\",\"error\":\"Site cannot be found\"}\n",
      "Token = None\n"
     ]
    }
   ],
   "source": [
    "\n",
    "url = 'https://api2.goaffpro.com/partner/login'\n",
    "\n",
    "res = await solve_captcha()\n",
    "payload = {\n",
    "    \"email\": \"natashacook371sdas@gmail.com\",\n",
    "    \"password\": \"Qxwg0CN09v\",\n",
    "    \"partner_portal_subdomain\": \"allpowers.goaffpro.com\",\n",
    "    \"recaptcha_response\": res[\"gRecaptchaResponse\"]\n",
    "}\n",
    "request_cookies = {\"goaffpro_affiliate_profile\":\"\"}\n",
    "\n",
    "token = login_and_get_token(url, payload, request_cookies)\n",
    "print(f\"Token =\", \"Bearer {token}\" if token is not None else token)\n"
   ]
  }
 ],
 "metadata": {
  "kernelspec": {
   "display_name": "test",
   "language": "python",
   "name": "python3"
  },
  "language_info": {
   "codemirror_mode": {
    "name": "ipython",
    "version": 3
   },
   "file_extension": ".py",
   "mimetype": "text/x-python",
   "name": "python",
   "nbconvert_exporter": "python",
   "pygments_lexer": "ipython3",
   "version": "3.10.9"
  }
 },
 "nbformat": 4,
 "nbformat_minor": 2
}
