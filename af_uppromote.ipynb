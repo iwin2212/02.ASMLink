{
 "cells": [
  {
   "cell_type": "markdown",
   "metadata": {},
   "source": [
    "Giải capcha"
   ]
  },
  {
   "cell_type": "code",
   "execution_count": 3,
   "metadata": {},
   "outputs": [],
   "source": [
    "from capmonstercloudclient import CapMonsterClient, ClientOptions\n",
    "from capmonstercloudclient.requests import RecaptchaV2ProxylessRequest\n",
    "\n",
    "API_KEY = \"b238f538e55b7deb0da93267f61d8763\"\n",
    "WEBSITE_URL = 'https://af.uppromote.com/solar-power-store-canada/login'\n",
    "WEBSITE_KEY = '6LcfFqkaAAAAAODkHHT2DLE7UBeSbf7kVCdBkTQE'\n",
    "async def solve_captcha():\n",
    "    client_options = ClientOptions(api_key=API_KEY)\n",
    "    cap_monster_client = CapMonsterClient(options=client_options)\n",
    "    recaptcha2request = RecaptchaV2ProxylessRequest(\n",
    "        websiteUrl=WEBSITE_URL,\n",
    "        websiteKey=WEBSITE_KEY\n",
    "    )\n",
    "    return await cap_monster_client.solve_captcha(recaptcha2request)\n"
   ]
  },
  {
   "cell_type": "markdown",
   "metadata": {},
   "source": [
    "Login\n"
   ]
  },
  {
   "cell_type": "code",
   "execution_count": 4,
   "metadata": {},
   "outputs": [],
   "source": [
    "import requests\n",
    "import re\n",
    "\n",
    "def extract_user_id(html_content):\n",
    "    \"\"\"\n",
    "    Extracts the user ID from HTML content containing a JavaScript redirect.\n",
    "    \n",
    "    Args:\n",
    "    - html_content (bytes): The HTML content in bytes.\n",
    "\n",
    "    Returns:\n",
    "    - str or None: The extracted user ID if found, or None if not found.\n",
    "    \"\"\"\n",
    "    # Convert bytes to string\n",
    "    html_str = html_content.decode()\n",
    "\n",
    "    # Use regular expression to extract the user ID\n",
    "    match = re.search(r'id=([a-f\\d]+)', html_str)\n",
    "    if match:\n",
    "        return match.group(1)\n",
    "    else:\n",
    "        return None\n",
    "\n",
    "def login_and_get_token(login_url, payload, headers): \n",
    "    print(payload)\n",
    "    response = requests.post(login_url, data=payload, headers=headers)\n",
    "    \n",
    "    if response.status_code == 200:\n",
    "        cookies = response.cookies\n",
    "        xsrf_token_cookie = cookies.get('XSRF-TOKEN')\n",
    "        laravel_session_cookie = cookies.get('laravel_session')\n",
    "        if xsrf_token_cookie:\n",
    "            return xsrf_token_cookie, laravel_session_cookie\n",
    "        else:\n",
    "            print(\"Không tìm thấy token.\")\n",
    "            return None, None\n",
    "    else:\n",
    "        print(f\"Error {response.status_code}: {response.text}\")\n",
    "        raise requests.exceptions.RequestException(f\"Error {response.status_code}: {response.text}\")\n"
   ]
  },
  {
   "cell_type": "code",
   "execution_count": 5,
   "metadata": {},
   "outputs": [
    {
     "name": "stdout",
     "output_type": "stream",
     "text": [
      "{'_token': 'l8E3hNPResTf5EPi9IuKX6U96dMwC5tq2dcFd8d2', 'shop_id': '80375', 'email': 'teamasmads@gmail.com', 'password': '2N*G5k$7ux5j2!F', 'g-recaptcha-response': '03AFcWeA7fp6aQTZURICCCRE6Y9sGF8So7ixl3xCgTILvoCAEC_ybwLrts6pGNiQUYJbP7bSFH7OGBSuy3bjCmmt6jBMDd5FRt8PUC83wxiUf_j65rxnhT45pmZ9EolkC_K8yJvLg0nmzFoo4uVzWl-uOHheacNGoaqQZlVUZ86ao56xVMNRlOpr2G8PrVwvIgTjWbRp7MPbtXQR4pt9ng3wN_x6ELEto9MoXB3oL4n89bUiwNHNUQMivxvRtjkLqYV6w0m2t2J1AFg1XMhtf6PO1XrL0NZQCotNjPVV97yNCWyAkMLiQK-54ZfA04W0qW4rI1mdEj-3X1TUOMl1-3AxyEpj7WebCnh8i4_IelDSlyOJQEnnu-jYlgwzfngzWpwkpgMD1K7QO7ATnGTBCvbEbkoLOLwTyvRI2bo6l166ihczI9bVJy7Ba4W1R9fZ0v9dPt5lnl87Kd6fc82dsfncQDTiBAZbOZrbma_diyZkxitPzYaW4FTewcZsPMgrnLEcdSsYb75DBgOmqjeP8NbAzoqtKXcSCgzuPcq_AB9so0GWA24jgregqUlKHnsQsLavdo_uZP0HIY5v8zkhnm35mEaFZy0gsYeQ'}\n",
      "id= ('eyJpdiI6InM1QU1JRW5Hc2NyTVVuakt6ZEZBWXc9PSIsInZhbHVlIjoib0wyaCtSWVpsY2liemN1UFVjVHZacW1kNnorVTJDdUp2MEdCZHNSXC96XC85ZWEzUE4xSWoyOVBzT3hwTmtkdjZsIiwibWFjIjoiYmNkYzljZDk3YjM3ZDg4NWM4ZjFiZTZkZTZiMzUzODJlZGZkZDgyODk2YmYxYWYyZmQ2MWZmYTY5MzQwZTliNCJ9', 'eyJpdiI6IjEzOG13bXRQNDBRbTB2OEVrZ3dJOXc9PSIsInZhbHVlIjoiNEtzeGZGZ3B2RVhrYmcrMGZHTDA4WVhMSHZPaTJyNE1paGdXRTZ2aGZWOTNPVlozbkRcL2Q3cVd5WVFHQ1pcL20yZXpGZkJUaDJ4cE1FcWJPV1c1RlMyVTNFS0hQd2xLSE9TQUZmRWdTMFlwZkRYTmlvV1piWnJHWmRcL1NKNTVKQmMiLCJtYWMiOiIxOTU4MDZjMDI4ZTA2NzFmZjczMTE1MDIyMGIxNWY0YzkzYzUxYjBiYTBmZDdlNTNmOTI5ZDYyNDk2YzgwOTI0In0%3D')\n"
     ]
    }
   ],
   "source": [
    "url = 'https://af.uppromote.com/solar-power-store-canada/login_aff'\n",
    "\n",
    "res = await solve_captcha()\n",
    "payload = {\n",
    "    \"_token\": \"l8E3hNPResTf5EPi9IuKX6U96dMwC5tq2dcFd8d2\",\n",
    "    \"shop_id\": \"80375\",\n",
    "    \"email\": \"teamasmads@gmail.com\",\n",
    "    \"password\": \"2N*G5k$7ux5j2!F\",\n",
    "    \"g-recaptcha-response\": res[\"gRecaptchaResponse\"]\n",
    "}\n",
    "headers = {\n",
    "    \n",
    "}\n",
    "\n",
    "token = login_and_get_token(url, payload, headers)\n",
    "print(f\"token= {token}\")\n"
   ]
  }
 ],
 "metadata": {
  "kernelspec": {
   "display_name": "test",
   "language": "python",
   "name": "python3"
  },
  "language_info": {
   "codemirror_mode": {
    "name": "ipython",
    "version": 3
   },
   "file_extension": ".py",
   "mimetype": "text/x-python",
   "name": "python",
   "nbconvert_exporter": "python",
   "pygments_lexer": "ipython3",
   "version": "3.10.9"
  }
 },
 "nbformat": 4,
 "nbformat_minor": 2
}
