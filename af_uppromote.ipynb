{
 "cells": [
  {
   "cell_type": "markdown",
   "metadata": {},
   "source": [
    "Giải capcha"
   ]
  },
  {
   "cell_type": "code",
   "execution_count": 53,
   "metadata": {},
   "outputs": [],
   "source": [
    "from capmonstercloudclient import CapMonsterClient, ClientOptions\n",
    "from capmonstercloudclient.requests import RecaptchaV2ProxylessRequest\n",
    "\n",
    "API_KEY = \"b238f538e55b7deb0da93267f61d8763\"\n",
    "WEBSITE_URL = 'https://af.uppromote.com/solar-power-store-canada/login'\n",
    "WEBSITE_KEY = '6LcfFqkaAAAAAODkHHT2DLE7UBeSbf7kVCdBkTQE'\n",
    "async def solve_captcha():\n",
    "    client_options = ClientOptions(api_key=API_KEY)\n",
    "    cap_monster_client = CapMonsterClient(options=client_options)\n",
    "    recaptcha2request = RecaptchaV2ProxylessRequest(\n",
    "        websiteUrl=WEBSITE_URL,\n",
    "        websiteKey=WEBSITE_KEY\n",
    "    )\n",
    "    return await cap_monster_client.solve_captcha(recaptcha2request)\n"
   ]
  },
  {
   "cell_type": "markdown",
   "metadata": {},
   "source": [
    "Login\n"
   ]
  },
  {
   "cell_type": "code",
   "execution_count": 54,
   "metadata": {},
   "outputs": [],
   "source": [
    "import re\n",
    "import aiohttp\n",
    "import re\n",
    "\n",
    "def extract_user_id(html_content):\n",
    "    html_str = html_content.decode()\n",
    "    match = re.search(r'id=([a-f\\d]+)', html_str)\n",
    "    if match:\n",
    "        return match.group(1)\n",
    "    else:\n",
    "        return None\n",
    "\n",
    "def extract_cookies_from_header(set_cookie_header):\n",
    "    # Extract cookies from Set-Cookie headers\n",
    "    cookies = re.findall(r'Set-Cookie: (.*?);', set_cookie_header)\n",
    "\n",
    "    # Join the cookies into a single string\n",
    "    cookies_string = \"; \".join(cookies)\n",
    "\n",
    "    return cookies_string\n",
    "\n",
    "async def LoginAndGetTokenAsync(login_url, payload, headers): \n",
    "    async with aiohttp.ClientSession() as session:\n",
    "        async with session.post(login_url, data=payload, headers=headers, allow_redirects=False) as response:\n",
    "            if response.status == 302:\n",
    "                cookies = response.cookies\n",
    "                if cookies:\n",
    "                    return extract_cookies_from_header(str(cookies))\n",
    "                else:\n",
    "                    print(\"Không tìm thấy token.\")\n",
    "                    return None, None\n",
    "            else:\n",
    "                print(f\"Error {response.status}: {response.text()}\")\n",
    "                response.raise_for_status()\n",
    "                return None, None\n"
   ]
  },
  {
   "cell_type": "code",
   "execution_count": 55,
   "metadata": {},
   "outputs": [
    {
     "name": "stdout",
     "output_type": "stream",
     "text": [
      "Cookie= XSRF-TOKEN=eyJpdiI6IjBrTTk3TjhqcmpUU09VQ3J6NEN6NUE9PSIsInZhbHVlIjoidFFQZ3JRSnhsSFdkS1hiSEpBZjM2SmxjbW5tdzlFXC9hWElYNURaRnA1eU8rWUw2ejNCdHBQVDYrRExCTVk2SXUiLCJtYWMiOiJlY2E3MWY2ZmZjMjAwYzkzZGU4NjRmOWRmNzEyNWM3ODYxNjI3YzQ4YTk1NmE3ZjRkODBmNjhkMGJiNjYzODcxIn0%3D; laravel_session=eyJpdiI6ImhoaWl2bWNHUE9tdEhZdzFGbzVqVUE9PSIsInZhbHVlIjoiUnVpSlMzQ2tZSzU4ZVU0RnNxXC9wdUYzQ2t0SGV0cVVhSzdcL1V5Rm53aEorM25cL0hNU0NvWWplUU9IWHQxdmFzMmxqd2tQRzFMamdXcVZNWTk5XC9YXC96VTlhVTBKdmdcL1BVdnNBVGJmZGdkXC82aXF6ZFdNdFJGNStyMlVcL3I2UnF1QSIsIm1hYyI6IjE3YWIzYzUyNDQ5MTVjYjU0NjlhZDY3NzE5NzI4M2FhMzRlY2EyMzQ0MzE5MjE4ZGZlMWRiNzc1NjYzMTdmZWUifQ%3D%3D\n"
     ]
    }
   ],
   "source": [
    "url = 'https://af.uppromote.com/solar-power-store-canada/login_aff'\n",
    "\n",
    "res = await solve_captcha()\n",
    "payload = {\n",
    "    \"_token\": \"5xhC3w0BB9Cezh7fhtZJg5YaHJvyInW5AC4qy8Mi\",\n",
    "    \"shop_id\": \"80375\",\n",
    "    \"email\": \"teamasmads@gmail.com\",\n",
    "    \"password\": \"2N*G5k$7ux5j2!F\",\n",
    "    \"g-recaptcha-response\": res[\"gRecaptchaResponse\"]\n",
    "}\n",
    "headers = {}\n",
    "\n",
    "Cookie = await LoginAndGetTokenAsync(url, payload, headers)\n",
    "print(f\"Cookie= {Cookie}\")\n"
   ]
  },
  {
   "cell_type": "markdown",
   "metadata": {},
   "source": [
    "GET data\n"
   ]
  },
  {
   "cell_type": "code",
   "execution_count": 56,
   "metadata": {},
   "outputs": [
    {
     "data": {
      "text/plain": [
       "{'Pending': '$0', 'Approved': '$0', 'Paid': '$0'}"
      ]
     },
     "execution_count": 56,
     "metadata": {},
     "output_type": "execute_result"
    }
   ],
   "source": [
    "import aiohttp\n",
    "from bs4 import BeautifulSoup\n",
    "\n",
    "async def fetch_data(url, cookie):\n",
    "    headers = {'Cookie': cookie}\n",
    "    async with aiohttp.ClientSession() as session:\n",
    "        async with session.get(url, headers=headers) as response:         \n",
    "            if response.status == 200:\n",
    "                html_content = await response.text()\n",
    "                soup = BeautifulSoup(html_content, 'html.parser')\n",
    "                \n",
    "                selected_elements = soup.select('#commission .panel-body__pending, #commission .panel-body__approved, #commission .panel-body__paid')\n",
    "                return {label_element.text.strip(): element.text.strip() for element in selected_elements if (label_element := element.find_next(class_='my-0')) is not None}\n",
    "            else:\n",
    "                print(f\"Error: {response.status}\")\n",
    "                return None\n",
    "            \n",
    "await fetch_data('https://af.uppromote.com/solar-power-store-canada/dashboard', Cookie)\n"
   ]
  },
  {
   "cell_type": "markdown",
   "metadata": {},
   "source": [
    "Crawl data func"
   ]
  },
  {
   "cell_type": "code",
   "execution_count": 57,
   "metadata": {},
   "outputs": [],
   "source": [
    "\n",
    "async def crawl_data(args):\n",
    "    url, email, password = args\n",
    "\n",
    "    res = await solve_captcha()\n",
    "    payload = {\n",
    "        \"_token\": \"5xhC3w0BB9Cezh7fhtZJg5YaHJvyInW5AC4qy8Mi\",\n",
    "        \"shop_id\": \"80375\",\n",
    "        \"email\": email,\n",
    "        \"password\": password,\n",
    "        \"g-recaptcha-response\": res[\"gRecaptchaResponse\"]\n",
    "    }\n",
    "    headers = {}\n",
    "\n",
    "    cookie = await LoginAndGetTokenAsync('https://af.uppromote.com/solar-power-store-canada/login_aff', payload, headers)\n",
    "\n",
    "    return await fetch_data('https://af.uppromote.com/solar-power-store-canada/dashboard', cookie)\n"
   ]
  },
  {
   "cell_type": "markdown",
   "metadata": {},
   "source": [
    "Main"
   ]
  },
  {
   "cell_type": "code",
   "execution_count": 58,
   "metadata": {},
   "outputs": [
    {
     "name": "stdout",
     "output_type": "stream",
     "text": [
      "[{'Pending': '$0', 'Approved': '$0', 'Paid': '$0'}]\n"
     ]
    }
   ],
   "source": [
    "import pypeln as pl\n",
    "\n",
    "data = [(\"https://af.uppromote.com/solar-power-store-canada/login\", \"teamasmads@gmail.com\", \"2N*G5k$7ux5j2!F\")]\n",
    "stage = await pl.task.map(crawl_data, data, workers=100)\n",
    "print(stage)\n"
   ]
  }
 ],
 "metadata": {
  "kernelspec": {
   "display_name": "test",
   "language": "python",
   "name": "python3"
  },
  "language_info": {
   "codemirror_mode": {
    "name": "ipython",
    "version": 3
   },
   "file_extension": ".py",
   "mimetype": "text/x-python",
   "name": "python",
   "nbconvert_exporter": "python",
   "pygments_lexer": "ipython3",
   "version": "3.10.9"
  }
 },
 "nbformat": 4,
 "nbformat_minor": 2
}
