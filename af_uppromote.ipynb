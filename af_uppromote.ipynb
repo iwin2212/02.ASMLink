{
 "cells": [
  {
   "cell_type": "markdown",
   "metadata": {},
   "source": [
    "Giải capcha"
   ]
  },
  {
   "cell_type": "code",
   "execution_count": 3,
   "metadata": {},
   "outputs": [],
   "source": [
    "from capmonstercloudclient import CapMonsterClient, ClientOptions\n",
    "from capmonstercloudclient.requests import RecaptchaV2ProxylessRequest\n",
    "\n",
    "API_KEY = \"b238f538e55b7deb0da93267f61d8763\"\n",
    "WEBSITE_URL = 'https://af.uppromote.com/solar-power-store-canada/login'\n",
    "WEBSITE_KEY = '6LcfFqkaAAAAAODkHHT2DLE7UBeSbf7kVCdBkTQE'\n",
    "async def solve_captcha():\n",
    "    client_options = ClientOptions(api_key=API_KEY)\n",
    "    cap_monster_client = CapMonsterClient(options=client_options)\n",
    "    recaptcha2request = RecaptchaV2ProxylessRequest(\n",
    "        websiteUrl=WEBSITE_URL,\n",
    "        websiteKey=WEBSITE_KEY\n",
    "    )\n",
    "    return await cap_monster_client.solve_captcha(recaptcha2request)\n"
   ]
  },
  {
   "cell_type": "markdown",
   "metadata": {},
   "source": [
    "Login\n"
   ]
  },
  {
   "cell_type": "code",
   "execution_count": 4,
   "metadata": {},
   "outputs": [],
   "source": [
    "import requests\n",
    "import re\n",
    "\n",
    "def extract_user_id(html_content):\n",
    "    \"\"\"\n",
    "    Extracts the user ID from HTML content containing a JavaScript redirect.\n",
    "    \n",
    "    Args:\n",
    "    - html_content (bytes): The HTML content in bytes.\n",
    "\n",
    "    Returns:\n",
    "    - str or None: The extracted user ID if found, or None if not found.\n",
    "    \"\"\"\n",
    "    # Convert bytes to string\n",
    "    html_str = html_content.decode()\n",
    "\n",
    "    # Use regular expression to extract the user ID\n",
    "    match = re.search(r'id=([a-f\\d]+)', html_str)\n",
    "    if match:\n",
    "        return match.group(1)\n",
    "    else:\n",
    "        return None\n",
    "\n",
    "def login_and_get_token(login_url, payload, headers): \n",
    "    print(payload)\n",
    "    response = requests.post(login_url, data=payload, headers=headers)\n",
    "    \n",
    "    if response.status_code == 200:\n",
    "        cookies = response.cookies\n",
    "        xsrf_token_cookie = cookies.get('XSRF-TOKEN')\n",
    "        laravel_session_cookie = cookies.get('laravel_session')\n",
    "        if xsrf_token_cookie:\n",
    "            return xsrf_token_cookie, laravel_session_cookie\n",
    "        else:\n",
    "            print(\"Không tìm thấy token.\")\n",
    "            return None, None\n",
    "    else:\n",
    "        print(f\"Error {response.status_code}: {response.text}\")\n",
    "        raise requests.exceptions.RequestException(f\"Error {response.status_code}: {response.text}\")\n"
   ]
  },
  {
   "cell_type": "code",
   "execution_count": 6,
   "metadata": {},
   "outputs": [
    {
     "name": "stdout",
     "output_type": "stream",
     "text": [
      "{'_token': 'l8E3hNPResTf5EPi9IuKX6U96dMwC5tq2dcFd8d2', 'shop_id': '80375', 'email': 'teamasmads@gmail.com', 'password': '2N*G5k$7ux5j2!F', 'g-recaptcha-response': '03AFcWeA5au1mEnCWjDUrg5krKY9rDh4fvjQvjGvCLXWoF9myPgRFh7qPb5TDU_OVDvlrNw1nUeheVwn2Eo4gTdmJyO6RByG4_G_j9eLl476rmLcZl8KK1RyENgm_pbjiikYzrOx4b3RDX7ew26ADnjy8hI7S6eAwLSRqAoHsPm2QuZqHVTjmDSAvJtVry-KMofjNnXH8YlkudSL0HADb7be3puPTTAHppCgOikMyB3kjIpIutEeQleSQ42OU5aY1FC58MX5rHZHaL41kYKLtHw-ufLYb097ssA1Q9qiqzkHXUGVJugC24dXzoyoQo6qAAXmz-r8Upcjakx-zCSoURzNnnxX-R7JWLx48F-0EumgRUPaoBtPAG8pr6_x47EOAEWC56MVC-8xZesUy-tekk78rHXHyFa9wOW4g3t7wSJXxRGatD6jcAuOQ2lPcx2Xuil8nsN3LYkxlwg0UGOrFUdGXq3dIxdURAsV5RyaXMaJ3byQK4tEgFP7g3S7CjbYWjFHVUDZREtzqHmRK2iMaujKNcQZ2ESBF3DRXoMjguPIISR9GfGmFgI4vbcH-Y4MEVcwmJN2LNNGt8HOdLjmCGQhNZxLeCMBvFZytA_nD4sfPANKTmTdKXnK-SLKVbrML6aSG_Ua7S3S2Y'}\n",
      "token= ('eyJpdiI6InlpT2FmZjhzRnUrZTZuYWVNbjdQZkE9PSIsInZhbHVlIjoidnlJNVwvdTVtdUN4d2VWZkNMOW44RUtFVnVOVUpFNUJRYTVGMUJ2UlpOTGo3MnFGY1pUUWd6YTBlVnhUYmRjd3MiLCJtYWMiOiIzODhlNGI3YTY3NThiOTAxMjVkNjBlMGFkZmRkOWI0MTY4MmZlNjY3MGMxNmM4YmFlMjA3MzhkZGYyNmIxOGQ5In0%3D', 'eyJpdiI6ImhMQkV4QWFXUUk2UFAwXC9IYUs3OXh3PT0iLCJ2YWx1ZSI6InlKVjRET2ZVVkZhdW5sczJMa3dGVEt2U3pvMmFJT2ZlUFUzNDJpV3BHXC85bk12U3RvZnZaYkNxZ0V0WElCZnZOS2hoSHZlNVlFYlA2MGpDc1NBdUhJNFlITTZyd3JjemFBclVieVlPc2hmY044MUlCNFBOOW8zM2dPU3M2c2o0dyIsIm1hYyI6IjA0ZGQyMmFhYTkxZGU1MzY3YTJkOTIwMjQwYTY3NzFhZDBlOWE5ZjMwODg4YTQzMjdlYmU4ZjYwZWQ2M2I3YTQifQ%3D%3D')\n"
     ]
    }
   ],
   "source": [
    "url = 'https://af.uppromote.com/solar-power-store-canada/login_aff'\n",
    "\n",
    "res = await solve_captcha()\n",
    "payload = {\n",
    "    \"_token\": \"l8E3hNPResTf5EPi9IuKX6U96dMwC5tq2dcFd8d2\",\n",
    "    \"shop_id\": \"80375\",\n",
    "    \"email\": \"teamasmads@gmail.com\",\n",
    "    \"password\": \"2N*G5k$7ux5j2!F\",\n",
    "    \"g-recaptcha-response\": res[\"gRecaptchaResponse\"]\n",
    "}\n",
    "headers = {\n",
    "    \n",
    "}\n",
    "\n",
    "token = login_and_get_token(url, payload, headers)\n",
    "print(f\"token= {token}\")\n"
   ]
  }
 ],
 "metadata": {
  "kernelspec": {
   "display_name": "test",
   "language": "python",
   "name": "python3"
  },
  "language_info": {
   "codemirror_mode": {
    "name": "ipython",
    "version": 3
   },
   "file_extension": ".py",
   "mimetype": "text/x-python",
   "name": "python",
   "nbconvert_exporter": "python",
   "pygments_lexer": "ipython3",
   "version": "3.10.9"
  }
 },
 "nbformat": 4,
 "nbformat_minor": 2
}
