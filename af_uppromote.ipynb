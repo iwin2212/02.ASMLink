{
 "cells": [
  {
   "cell_type": "markdown",
   "metadata": {},
   "source": [
    "Giải capcha"
   ]
  },
  {
   "cell_type": "code",
   "execution_count": 8,
   "metadata": {},
   "outputs": [],
   "source": [
    "from capmonstercloudclient import CapMonsterClient, ClientOptions\n",
    "from capmonstercloudclient.requests import RecaptchaV2ProxylessRequest\n",
    "\n",
    "API_KEY = \"b238f538e55b7deb0da93267f61d8763\"\n",
    "WEBSITE_URL = 'https://af.uppromote.com/solar-power-store-canada/login'\n",
    "WEBSITE_KEY = '6LcfFqkaAAAAAODkHHT2DLE7UBeSbf7kVCdBkTQE'\n",
    "async def solve_captcha():\n",
    "    client_options = ClientOptions(api_key=API_KEY)\n",
    "    cap_monster_client = CapMonsterClient(options=client_options)\n",
    "    recaptcha2request = RecaptchaV2ProxylessRequest(\n",
    "        websiteUrl=WEBSITE_URL,\n",
    "        websiteKey=WEBSITE_KEY\n",
    "    )\n",
    "    return await cap_monster_client.solve_captcha(recaptcha2request)\n"
   ]
  },
  {
   "cell_type": "markdown",
   "metadata": {},
   "source": [
    "Login\n"
   ]
  },
  {
   "cell_type": "code",
   "execution_count": 9,
   "metadata": {},
   "outputs": [],
   "source": [
    "import requests\n",
    "import re\n",
    "\n",
    "def extract_user_id(html_content):\n",
    "    \"\"\"\n",
    "    Extracts the user ID from HTML content containing a JavaScript redirect.\n",
    "    \n",
    "    Args:\n",
    "    - html_content (bytes): The HTML content in bytes.\n",
    "\n",
    "    Returns:\n",
    "    - str or None: The extracted user ID if found, or None if not found.\n",
    "    \"\"\"\n",
    "    # Convert bytes to string\n",
    "    html_str = html_content.decode()\n",
    "\n",
    "    # Use regular expression to extract the user ID\n",
    "    match = re.search(r'id=([a-f\\d]+)', html_str)\n",
    "    if match:\n",
    "        return match.group(1)\n",
    "    else:\n",
    "        return None\n",
    "\n",
    "def login_and_get_id(login_url, payload, headers): \n",
    "    print(payload)\n",
    "    response = requests.post(login_url, data=payload, headers=headers)\n",
    "    \n",
    "    if response.status_code == 200:\n",
    "        print(response.cookies)\n",
    "        id = extract_user_id(response.content)\n",
    "        if id:\n",
    "            return id\n",
    "        else:\n",
    "            print(\"Không tìm thấy token.\")\n",
    "    else:\n",
    "        print(f\"Error {response.status_code}: {response.text}\")\n",
    "        return None\n"
   ]
  },
  {
   "cell_type": "code",
   "execution_count": 10,
   "metadata": {},
   "outputs": [
    {
     "name": "stdout",
     "output_type": "stream",
     "text": [
      "{'_token': 'l8E3hNPResTf5EPi9IuKX6U96dMwC5tq2dcFd8d2', 'shop_id': '80375', 'email': 'teamasmads@gmail.com', 'password': '2N*G5k$7ux5j2!F', 'g-recaptcha-response': '03AFcWeA6WJn16Jm8eym-T3sbSQcMve2ShfMbETNL_-hzvIcCpRfFSGBtb6BsbOkbDoK49LosiwU3nIOmzCCVuL7XsCB2WDWL40vSHA0UKuTt5VY7O6-WW15HKhp1C4J6w3mlOs1l5hCWVsBNaxyj2CJRPVlIRgDnHJcax3OvZyQmCh7ISwDR3wdPWikNdpc0ZI00bSBTQuir06mwyxKS5tOCUFeRl1Fa1RWtMyUNcugOe-3XdeA05DdlULAvaCrw2sGbyYwtbzd_1P80qyv9wojgMjyqbFBTdOEQaHx4rsD73Ls3QoJgze2hNIh8h4E5Ruhmz6RlIy-yoWBJgYKzjAu3IZ-q9uYbi4qoUHN2fUBAnE0Bv-S6zlwBi76sbjnr7COhl5y90svTVmpGU1nlk2gydtSJtqTudzbw6YSPYWwje6guyKxpZIcwI4P3R4rVRbdw2ufHuv6o1oHAHqFgje6Wqu5OYmp8C9GULEOEQ6OB_p5Q5q5t95vVKwBfgi38BtSB5wSLfHjuPqR9igizIfD0eZpsLM8lHbQkuLrCDyAgvlL4vzqu27oJ1PAnIf3ixxiDbIeNOr86otSMTJUPPWRNgUkRzt_CtwInBkSCx-mKTP5XksbrFHGA'}\n",
      "<RequestsCookieJar[<Cookie XSRF-TOKEN=eyJpdiI6Ilc4eE1aRkdtR2VaSzJyOEZheXVQNEE9PSIsInZhbHVlIjoiTDNEbnV2Z0ZXZDVnbkx0bEI5ZUo0TEczVzMwRGhidVZTYVFWWG1mbGlcL25ob1owY2ZaYU1pOWwxTlFoT2VnckYiLCJtYWMiOiIxZWEzZjZkMjY0MzM5OWQ2MzM3NDRjMWI3ZWM1MDhlYzQzMDlkN2RlYTIwYjU2ZDg3ZDRmZmU0ODMyN2MwN2I1In0%3D for af.uppromote.com/>, <Cookie laravel_session=eyJpdiI6InhieklPemFOZHRTXC9lSzRtcUpYdGRnPT0iLCJ2YWx1ZSI6IjNRcVQ2dE5COTBRbVo2dVhob2ExQ1JCdis5QjJXXC83M3dDeWgzU1IyWW9lUFRoNVBwNWUxU0F2RWpwdmc1TXpYeUlhajFQV2d5MUhEQzNYSDFCTXhLUk9KVVllWlQ0dHdPM05ieDl1cEdzRnB1MThGeEgwSUFkc0x6bUNcL1dVeFEiLCJtYWMiOiJiYjBiYjFkNjkxNDI3ZDBhZDA0MGE3YmQ4MGYzNzY3Y2VlNGJiMWQyMjBlMGZhZjQ1YTRkMTcwNWIwYTQwM2Q0In0%3D for af.uppromote.com/>]>\n",
      "Không tìm thấy token.\n",
      "id= None\n"
     ]
    }
   ],
   "source": [
    "url = 'https://af.uppromote.com/solar-power-store-canada/login_aff'\n",
    "\n",
    "res = await solve_captcha()\n",
    "payload = {\n",
    "    \"_token\": \"l8E3hNPResTf5EPi9IuKX6U96dMwC5tq2dcFd8d2\",\n",
    "    \"shop_id\": \"80375\",\n",
    "    \"email\": \"teamasmads@gmail.com\",\n",
    "    \"password\": \"2N*G5k$7ux5j2!F\",\n",
    "    \"g-recaptcha-response\": res[\"gRecaptchaResponse\"]\n",
    "}\n",
    "headers = {\n",
    "    \n",
    "}\n",
    "\n",
    "id = login_and_get_id(url, payload, headers)\n",
    "print(f\"id= {id}\")\n"
   ]
  }
 ],
 "metadata": {
  "kernelspec": {
   "display_name": "test",
   "language": "python",
   "name": "python3"
  },
  "language_info": {
   "codemirror_mode": {
    "name": "ipython",
    "version": 3
   },
   "file_extension": ".py",
   "mimetype": "text/x-python",
   "name": "python",
   "nbconvert_exporter": "python",
   "pygments_lexer": "ipython3",
   "version": "3.10.9"
  }
 },
 "nbformat": 4,
 "nbformat_minor": 2
}
