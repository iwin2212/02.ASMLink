{
 "cells": [
  {
   "cell_type": "markdown",
   "metadata": {},
   "source": [
    "Giải captcha"
   ]
  },
  {
   "cell_type": "code",
   "execution_count": 21,
   "metadata": {},
   "outputs": [],
   "source": [
    "from capmonstercloudclient import CapMonsterClient, ClientOptions\n",
    "from capmonstercloudclient.requests import RecaptchaV2ProxylessRequest\n",
    "\n",
    "API_KEY = \"b238f538e55b7deb0da93267f61d8763\"\n",
    "WEBSITE_URL = 'https://www.shoutout.global/login?id=22wbe'\n",
    "WEBSITE_KEY = '6LfvfrEUAAAAAPg5Dt1q3UsmCwD_Z5oELX4s95eB'\n",
    "async def solve_captcha():\n",
    "    client_options = ClientOptions(api_key=API_KEY)\n",
    "    cap_monster_client = CapMonsterClient(options=client_options)\n",
    "    recaptcha2request = RecaptchaV2ProxylessRequest(\n",
    "        websiteUrl=WEBSITE_URL,\n",
    "        websiteKey=WEBSITE_KEY\n",
    "    )\n",
    "    return await cap_monster_client.solve_captcha(recaptcha2request)\n",
    "\n",
    "# responses = await solve_captcha()\n",
    "# print(responses[\"gRecaptchaResponse\"])\n"
   ]
  },
  {
   "cell_type": "markdown",
   "metadata": {},
   "source": [
    "Login and get Id\n"
   ]
  },
  {
   "cell_type": "code",
   "execution_count": 22,
   "metadata": {},
   "outputs": [],
   "source": [
    "import requests\n",
    "import re\n",
    "import aiohttp\n",
    "\n",
    "async def LoginAndGetIdAsync(login_url, payload, headers):\n",
    "    async with aiohttp.ClientSession() as session:\n",
    "        async with session.post(login_url, data=payload, headers=headers) as response:\n",
    "            if response.status == 200:\n",
    "                html_content = await response.text()\n",
    "                user_id = extract_user_id(html_content)\n",
    "                if user_id:\n",
    "                    return user_id\n",
    "                else:\n",
    "                    print(\"Không tìm thấy token trong cookies.\")\n",
    "            else:\n",
    "                print(f\"Error {response.status}: {await response.text()}\")\n",
    "            return None\n"
   ]
  },
  {
   "cell_type": "code",
   "execution_count": 23,
   "metadata": {},
   "outputs": [
    {
     "name": "stdout",
     "output_type": "stream",
     "text": [
      "<coroutine object LoginAndGetIdAsync at 0x000001AC2E788E40>\n"
     ]
    },
    {
     "name": "stderr",
     "output_type": "stream",
     "text": [
      "C:\\Users\\bacht\\AppData\\Local\\Temp\\ipykernel_9852\\181615079.py:14: RuntimeWarning: coroutine 'LoginAndGetIdAsync' was never awaited\n",
      "  id =  LoginAndGetIdAsync(url, payload, headers)\n",
      "RuntimeWarning: Enable tracemalloc to get the object allocation traceback\n"
     ]
    }
   ],
   "source": [
    "\n",
    "url = 'https://www.shoutout.global/checklogin'\n",
    "\n",
    "res = await solve_captcha()\n",
    "payload = {\n",
    "    \"email\": \"hunghi1090811@gmail.com\",\n",
    "    \"password\": \"c0kL2Q23iGpC\",\n",
    "    \"g-recaptcha-response\": res[\"gRecaptchaResponse\"],\n",
    "    \"encryptedID\": \"22wbe\"\n",
    "}\n",
    "headers = {\n",
    "    'Origin': 'https://www.shoutout.global'\n",
    "}\n",
    "    \n",
    "id = await LoginAndGetIdAsync(url, payload, headers)\n",
    "print(id)\n"
   ]
  },
  {
   "cell_type": "code",
   "execution_count": 10,
   "metadata": {},
   "outputs": [
    {
     "name": "stdout",
     "output_type": "stream",
     "text": [
      "{'salesCommissionTxt': '1%', 'leadTxt': '0', 'totalRevenueTxt': '$0.00', 'totalCommissionTxt': '$0.00', 'pendingCommissionTxt': '$0.00'}\n"
     ]
    }
   ],
   "source": [
    "import aiohttp\n",
    "from bs4 import BeautifulSoup\n",
    "\n",
    "async def fetch_data(url):\n",
    "    async with aiohttp.ClientSession() as session:\n",
    "        async with session.get(url) as response:            \n",
    "            if response.status == 200:\n",
    "                html_content = await response.text()\n",
    "                soup = BeautifulSoup(html_content, 'html.parser')\n",
    "\n",
    "                return {\n",
    "                    \"salesCommissionTxt\": soup.select('.card .card-body h1.card-title')[0].get_text(strip=True),\n",
    "                    \"leadTxt\": soup.select('.card .card-body h1.card-title')[1].get_text(strip=True),\n",
    "                    \"totalRevenueTxt\": soup.find(id='totalRevenueTxt').get_text(strip=True),\n",
    "                    \"totalCommissionTxt\": soup.select('.card .card-body .col-12 h2')[1].get_text(strip=True),\n",
    "                    \"pendingCommissionTxt\": soup.select('.card .card-body .col-12 h2')[2].get_text(strip=True)\n",
    "                }\n",
    "            else:\n",
    "                print(f\"Error: {response.status}\")\n",
    "                return None\n"
   ]
  },
  {
   "cell_type": "code",
   "execution_count": null,
   "metadata": {},
   "outputs": [],
   "source": [
    "url = \"https://www.shoutout.global/userdashboard?id=040fd83cf134c5ca6fadf1c5ce00a07a98a87182f77dbd9381faa017fbaffba10b5a8f2fa8e40c6c60bd64920bde367905b87873546f3655fdb3dc7ecbaf69721a3532e4721f2225e64a635f554ddbab5f67f4a6a752b65254351222c513863a3ed8c0effd5d7c04dd\"\n",
    "data = await fetch_data(url)\n",
    "print(data)\n"
   ]
  }
 ],
 "metadata": {
  "kernelspec": {
   "display_name": "test",
   "language": "python",
   "name": "python3"
  },
  "language_info": {
   "codemirror_mode": {
    "name": "ipython",
    "version": 3
   },
   "file_extension": ".py",
   "mimetype": "text/x-python",
   "name": "python",
   "nbconvert_exporter": "python",
   "pygments_lexer": "ipython3",
   "version": "3.10.9"
  }
 },
 "nbformat": 4,
 "nbformat_minor": 2
}
