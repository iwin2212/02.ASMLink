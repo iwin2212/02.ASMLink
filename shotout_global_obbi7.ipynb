{
 "cells": [
  {
   "cell_type": "markdown",
   "metadata": {},
   "source": [
    "Giải captcha"
   ]
  },
  {
   "cell_type": "code",
   "execution_count": 12,
   "metadata": {},
   "outputs": [],
   "source": [
    "from capmonstercloudclient import CapMonsterClient, ClientOptions\n",
    "from capmonstercloudclient.requests import RecaptchaV2ProxylessRequest\n",
    "\n",
    "API_KEY = \"b238f538e55b7deb0da93267f61d8763\"\n",
    "WEBSITE_URL = 'https://www.shoutout.global/login?id=22wbe'\n",
    "WEBSITE_KEY = '6LfvfrEUAAAAAPg5Dt1q3UsmCwD_Z5oELX4s95eB'\n",
    "async def solve_captcha():\n",
    "    client_options = ClientOptions(api_key=API_KEY)\n",
    "    cap_monster_client = CapMonsterClient(options=client_options)\n",
    "    recaptcha2request = RecaptchaV2ProxylessRequest(\n",
    "        websiteUrl=WEBSITE_URL,\n",
    "        websiteKey=WEBSITE_KEY\n",
    "    )\n",
    "    return await cap_monster_client.solve_captcha(recaptcha2request)\n",
    "\n",
    "# responses = await solve_captcha()\n",
    "# print(responses[\"gRecaptchaResponse\"])\n"
   ]
  },
  {
   "cell_type": "markdown",
   "metadata": {},
   "source": [
    "Login\n"
   ]
  },
  {
   "cell_type": "code",
   "execution_count": 13,
   "metadata": {},
   "outputs": [],
   "source": [
    "import requests\n",
    "import re\n",
    "\n",
    "def extract_user_id(html_content):\n",
    "    \"\"\"\n",
    "    Extracts the user ID from HTML content containing a JavaScript redirect.\n",
    "    \n",
    "    Args:\n",
    "    - html_content (bytes): The HTML content in bytes.\n",
    "\n",
    "    Returns:\n",
    "    - str or None: The extracted user ID if found, or None if not found.\n",
    "    \"\"\"\n",
    "    # Convert bytes to string\n",
    "    html_str = html_content.decode()\n",
    "\n",
    "    # Use regular expression to extract the user ID\n",
    "    match = re.search(r'id=([a-f\\d]+)', html_str)\n",
    "    if match:\n",
    "        return match.group(1)\n",
    "    else:\n",
    "        return None\n",
    "\n",
    "def login_and_get_id(login_url, payload, headers): \n",
    "    print(payload)\n",
    "    response = requests.post(login_url, data=payload, headers=headers)\n",
    "    \n",
    "    if response.status_code == 200:\n",
    "        id = extract_user_id(response.content)\n",
    "        if id:\n",
    "            return id\n",
    "        else:\n",
    "            print(\"Không tìm thấy token.\")\n",
    "    else:\n",
    "        print(f\"Error {response.status_code}: {response.text}\")\n",
    "        return None\n"
   ]
  },
  {
   "cell_type": "code",
   "execution_count": 14,
   "metadata": {},
   "outputs": [
    {
     "name": "stdout",
     "output_type": "stream",
     "text": [
      "{'email': 'hunghi1090811@gmail.com', 'password': 'c0kL2Q23iGpC', 'g-recaptcha-response': '03AFcWeA52TO09neBq_gtKVRRyXql3sb2ffzOvR7OINCZcQS6QU6cTi_GD9F9x98sQVasFrZVeqlomENurIiqyzkpM9A1_R_R7YqBOfaK_mz_S6v5o_UhjFVr0EmoyueTdH-GG0BYzHx1ERpRBkvyq2odH7DcoCrZnuDwS1OG2URZ-Nt8UJTUmSbSCu4hf_ZoLWk2UQnP4r6xXtzZmIMhNtx2F9oH_1ZlYGJ_PRYMdJsNuIxNKxDaPaxWwSzXwp4gv9E6FW7jMWQWTPLD19dm5y_9bMtjy8ODGX1iokGHy5hVcYpvLnumfLN_70c5kad-6O371Dy_nhMhskYHxmOJo1Ze2r7NK8LY1Hj4H7uwnt66AQPigTNwYu7i4t7xSNbRw-_6UfeZFGZVbYoswQ-BRRaCSPaFxiTJtBvOatt_rsAgorQ_n3MSmDzcatMHQ9IjwezVRQ9cFRlywbPzvkeJGXjpnxW15zqW4o8kArGjbc-FdzWCx-d61SFOWt7J5GFRDLCPqanSUUA6jVsVkSWGdEAcoM_O_ldJMzDrsRdAuWX9OpfYDdQKgIir01lO52fKRUB34CadM-mJCST3hPMDRlTWjpi1aUyJ4oKdz6kGC5VT02B7n1Ub5b3Q', 'encryptedID': '22wbe'}\n",
      "id= c179a2fe146819cde93be4fecaffbbd14619a1da3419c529dd2b680272ac3726276ebcb034ec518a24ab0dafeb55dea5256de138bf8e4b78ffd0f14e785a368c7bb366540c454ca1b212e0381c08d2c8c5bbe4e4564b8b4cd3012e81618d26b10b04f99397b35fa6f4\n"
     ]
    }
   ],
   "source": [
    "\n",
    "url = 'https://www.shoutout.global/checklogin'\n",
    "\n",
    "res = await solve_captcha()\n",
    "payload = {\n",
    "    \"email\": \"hunghi1090811@gmail.com\",\n",
    "    \"password\": \"c0kL2Q23iGpC\",\n",
    "    \"g-recaptcha-response\": res[\"gRecaptchaResponse\"],\n",
    "    \"encryptedID\": \"22wbe\"\n",
    "}\n",
    "headers = {\n",
    "    'Origin': 'https://www.shoutout.global'\n",
    "}\n",
    "\n",
    "id = login_and_get_id(url, payload, headers)\n",
    "print(f\"id= {id}\")\n"
   ]
  }
 ],
 "metadata": {
  "kernelspec": {
   "display_name": "test",
   "language": "python",
   "name": "python3"
  },
  "language_info": {
   "codemirror_mode": {
    "name": "ipython",
    "version": 3
   },
   "file_extension": ".py",
   "mimetype": "text/x-python",
   "name": "python",
   "nbconvert_exporter": "python",
   "pygments_lexer": "ipython3",
   "version": "3.10.9"
  }
 },
 "nbformat": 4,
 "nbformat_minor": 2
}
